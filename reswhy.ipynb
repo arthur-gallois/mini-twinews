{
 "cells": [
  {
   "cell_type": "code",
   "execution_count": 1,
   "metadata": {},
   "outputs": [
    {
     "name": "stderr",
     "output_type": "stream",
     "text": [
      "/Users/aliramlaoui/anaconda3/envs/recom-articles/lib/python3.11/site-packages/tqdm/auto.py:21: TqdmWarning: IProgress not found. Please update jupyter and ipywidgets. See https://ipywidgets.readthedocs.io/en/stable/user_install.html\n",
      "  from .autonotebook import tqdm as notebook_tqdm\n",
      "You passed along `num_labels=1200` with an incompatible id to label map: {'0': 'LABEL_0', '1': 'LABEL_1'}. The number of labels wil be overwritten to 2.\n",
      "All TF 2.0 model weights were used when initializing DistilBertForMaskedLM.\n",
      "\n",
      "Some weights of DistilBertForMaskedLM were not initialized from the TF 2.0 model and are newly initialized: ['vocab_projector.weight', 'vocab_projector.weight']\n",
      "You should probably TRAIN this model on a down-stream task to be able to use it for predictions and inference.\n",
      "The tokenizer class you load from this checkpoint is not the same type as the class this function is called from. It may result in unexpected tokenization. \n",
      "The tokenizer class you load from this checkpoint is 'BertTokenizer'. \n",
      "The class this function is called from is 'DistilBertTokenizerFast'.\n"
     ]
    }
   ],
   "source": [
    "from models import reswhy\n",
    "import joblib\n",
    "import numpy as np\n",
    "\n",
    "%load_ext autoreload\n",
    "%autoreload 2"
   ]
  },
  {
   "cell_type": "code",
   "execution_count": 109,
   "metadata": {},
   "outputs": [],
   "source": [
    "ranking_bm25 = joblib.load(\"./rankings/ranking_BM25.pkl\")\n",
    "ranking_dbertft = joblib.load(\"./rankings/ranking_dbertft.pkl\")\n",
    "\n",
    "users_keys = list(ranking_dbertft.keys())"
   ]
  },
  {
   "cell_type": "code",
   "execution_count": 110,
   "metadata": {},
   "outputs": [
    {
     "name": "stdout",
     "output_type": "stream",
     "text": [
      "[(0, 10527.36901473999, 1), (1, 7833.827178955078, 1), (2, 4969.663930892944, 1), (3, 3596.261800765991, 1), (4, 3051.002191543579, 1), (5, 7083.260164260864, 1), (6, 11016.811786651611, 1), (7, 9635.719787597656, 1), (8, 8616.325408935547, 1), (9, 7312.386749267578, 1), (10, 6070.244110107422, 0), (11, 10666.476259231567, 0), (12, 4700.507340431213, 0), (13, 2685.1768112182617, 0), (14, 7385.395896911621, 0), (15, 2742.937168121338, 0), (16, 6830.004614830017, 0), (17, 13688.036586761475, 0), (18, 13826.198623657227, 0), (19, 6340.41951751709, 0), (20, 5750.232782363892, 0), (21, 8531.248092651367, 0), (22, 6008.10725402832, 0), (23, 7990.778568267822, 0), (24, 3788.490291595459, 0), (25, 6920.738466262817, 0), (26, 12300.149467468262, 0), (27, 6799.1229820251465, 0), (28, 6499.231369018555, 0), (29, 6399.728811264038, 0), (30, 10511.182725906372, 0), (31, 5831.746806144714, 0), (32, 3257.706117630005, 0), (33, 5194.469060897827, 0), (34, 4514.319894790649, 0), (35, 10143.08584022522, 0), (36, 1898.1176128387451, 0), (37, 4942.14013671875, 0), (38, 6404.6611404418945, 0), (39, 5375.826360702515, 0), (40, 3070.9460620880127, 0), (41, 7697.243112564087, 0), (42, 3986.592221260071, 0), (43, 8067.534868240356, 0), (44, 8087.04821395874, 0), (45, 2396.550790786743, 0), (46, 11965.211750030518, 0), (47, 7525.226089477539, 0), (48, 2882.577365875244, 0), (49, 7079.123332977295, 0), (50, 4553.343341827393, 0), (51, 4905.623327255249, 0), (52, 1901.7789506912231, 0), (53, 4504.411008834839, 0), (54, 5510.29888343811, 0), (55, 4880.49196434021, 0), (56, 8363.451707839966, 0), (57, 7054.253322601318, 0), (58, 5805.975561141968, 0), (59, 6049.997222900391, 0), (60, 6766.93518447876, 0), (61, 6032.591623306274, 0), (62, 8194.988702774048, 0), (63, 7507.143981933594, 0), (64, 7322.612598419189, 0), (65, 6048.785503387451, 0), (66, 8094.233619689941, 0), (67, 7812.561992645264, 0), (68, 3143.411933898926, 0), (69, 7679.4792404174805, 0), (70, 4537.091217041016, 0), (71, 1975.3625593185425, 0), (72, 23899.868370056152, 0), (73, 2046.4471635818481, 0), (74, 8717.26720237732, 0), (75, 3127.6447315216064, 0), (76, 6021.162002563477, 0), (77, 4760.10343170166, 0), (78, 5952.200462341309, 0), (79, 4732.803791046143, 0), (80, 6934.051734924316, 0), (81, 5630.189296722412, 0), (82, 6449.348377227783, 0), (83, 7804.418985366821, 0), (84, 3501.1685371398926, 0), (85, 7045.7234745025635, 0), (86, 8002.650653839111, 0), (87, 5378.668300628662, 0), (88, 12673.469985961914, 0), (89, 6349.08970451355, 0), (90, 6251.9192543029785, 0), (91, 7323.415678977966, 0), (92, 6629.278923034668, 0), (93, 4964.114189147949, 0), (94, 3850.6195526123047, 0), (95, 3019.0967407226562, 0), (96, 3903.8099327087402, 0), (97, 4132.031261444092, 0), (98, 3030.753351211548, 0), (99, 4687.656549453735, 0)]\n"
     ]
    }
   ],
   "source": [
    "for user in users_keys:\n",
    "    print(ranking_bm25[user])\n",
    "    break"
   ]
  },
  {
   "cell_type": "code",
   "execution_count": 126,
   "metadata": {},
   "outputs": [],
   "source": [
    "from scores import get_ndcg_reswhy, grid_search_reswhy\n",
    "\n",
    "best_params_reswhy = grid_search_reswhy(ranking_bm25, ranking_dbertft)\n",
    "best_alpha1, best_alpha2, best_beta, best_weight = best_params['alpha1'], best_params['alpha2'], best_params['beta'], best_params['weight']\n",
    "ranking_reswhy = get_ndcg_reswhy(ranking_bm25, ranking_dbertft, [best_alpha1, best_alpha2], best_beta, best_weight, CV=False, return_ranking=True)\n"
   ]
  },
  {
   "cell_type": "code",
   "execution_count": 127,
   "metadata": {},
   "outputs": [],
   "source": [
    "def MRR(scores):\n",
    "    scores.sort(key=lambda x:-x[1])\n",
    "    for k in range(len(scores)):\n",
    "        if scores[k][2]==1:\n",
    "            return 1/(k+1)"
   ]
  },
  {
   "cell_type": "code",
   "execution_count": 131,
   "metadata": {},
   "outputs": [
    {
     "name": "stdout",
     "output_type": "stream",
     "text": [
      "0.4525596109430828\n"
     ]
    }
   ],
   "source": [
    "ranking = ranking_reswhy\n",
    "mrr_total = 0\n",
    "for user in ranking.keys():\n",
    "    mrr_total += MRR(ranking[user])\n",
    "print(mrr_total/len(ranking.keys()))"
   ]
  }
 ],
 "metadata": {
  "kernelspec": {
   "display_name": "recom-articles",
   "language": "python",
   "name": "python3"
  },
  "language_info": {
   "codemirror_mode": {
    "name": "ipython",
    "version": 3
   },
   "file_extension": ".py",
   "mimetype": "text/x-python",
   "name": "python",
   "nbconvert_exporter": "python",
   "pygments_lexer": "ipython3",
   "version": "3.11.4"
  },
  "orig_nbformat": 4
 },
 "nbformat": 4,
 "nbformat_minor": 2
}
